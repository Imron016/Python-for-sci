{
 "cells": [
  {
   "cell_type": "code",
   "execution_count": 1,
   "metadata": {
    "scrolled": true
   },
   "outputs": [
    {
     "name": "stdout",
     "output_type": "stream",
     "text": [
      "Notebook initialized with x3d backend.\n"
     ]
    },
    {
     "data": {
      "text/plain": [
       "<mayavi.tools.animator.Animator at 0x1ab3dda5938>"
      ]
     },
     "execution_count": 1,
     "metadata": {},
     "output_type": "execute_result"
    }
   ],
   "source": [
    "import numpy as np\n",
    "from mayavi import mlab\n",
    "mlab.init_notebook()\n",
    "@mlab.animate(delay = 100)\n",
    "def updateAnimation():\n",
    "    t = 0.0\n",
    "    while True:\n",
    "        ball.mlab_source.set(x = np.cos(t), y = np.sin(t), z = 0)\n",
    "        t += 0.1\n",
    "        yield\n",
    "\n",
    "ball = mlab.points3d(np.array(1.), np.array(0.), np.array(0.))\n",
    "\n",
    "updateAnimation()"
   ]
  },
  {
   "cell_type": "code",
   "execution_count": null,
   "metadata": {},
   "outputs": [],
   "source": []
  }
 ],
 "metadata": {
  "kernelspec": {
   "display_name": "Python AIML",
   "language": "python",
   "name": "aiml"
  },
  "language_info": {
   "codemirror_mode": {
    "name": "ipython",
    "version": 3
   },
   "file_extension": ".py",
   "mimetype": "text/x-python",
   "name": "python",
   "nbconvert_exporter": "python",
   "pygments_lexer": "ipython3",
   "version": "3.6.9"
  }
 },
 "nbformat": 4,
 "nbformat_minor": 4
}
