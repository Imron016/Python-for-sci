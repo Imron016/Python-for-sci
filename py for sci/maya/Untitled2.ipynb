{
 "cells": [
  {
   "cell_type": "code",
   "execution_count": 1,
   "metadata": {},
   "outputs": [
    {
     "name": "stderr",
     "output_type": "stream",
     "text": [
      "C:\\Users\\ideapad 330\\Anaconda3\\envs\\AIML\\lib\\site-packages\\ipykernel_launcher.py:17: RuntimeWarning: overflow encountered in multiply\n",
      "C:\\Users\\ideapad 330\\Anaconda3\\envs\\AIML\\lib\\site-packages\\ipykernel_launcher.py:17: RuntimeWarning: invalid value encountered in multiply\n",
      "C:\\Users\\ideapad 330\\Anaconda3\\envs\\AIML\\lib\\site-packages\\ipykernel_launcher.py:16: RuntimeWarning: overflow encountered in square\n",
      "  app.launch_new_instance()\n",
      "C:\\Users\\ideapad 330\\Anaconda3\\envs\\AIML\\lib\\site-packages\\ipykernel_launcher.py:16: RuntimeWarning: invalid value encountered in square\n",
      "  app.launch_new_instance()\n",
      "C:\\Users\\ideapad 330\\Anaconda3\\envs\\AIML\\lib\\site-packages\\ipykernel_launcher.py:17: RuntimeWarning: invalid value encountered in greater\n"
     ]
    }
   ],
   "source": [
    "# Author: Gael Varoquaux <gael.varoquaux@normalesup.org>\n",
    "# Copyright (c) 2008, Enthought, Inc.\n",
    "# License: BSD Style.\n",
    "\n",
    "\n",
    "from mayavi import mlab\n",
    "import numpy as np\n",
    "\n",
    "# Calculate the Julia set on a grid\n",
    "x, y = np.ogrid[-1.5:0.5:500j, -1:1:500j]\n",
    "z = x + 1j * y\n",
    "\n",
    "julia = np.zeros(z.shape)\n",
    "\n",
    "for i in range(50):\n",
    "    z = z ** 2 - 0.70176 - 0.3842j\n",
    "    julia += 1 / float(2 + i) * (z * np.conj(z) > 4)\n",
    "\n",
    "# Display it\n",
    "mlab.figure(size=(400, 300))\n",
    "mlab.surf(julia, colormap='gist_earth', warp_scale='auto', vmax=1.5)\n",
    "\n",
    "# A view into the \"Canyon\"\n",
    "mlab.view(65, 27, 322, [30., -13.7,  136])\n",
    "mlab.show()"
   ]
  },
  {
   "cell_type": "code",
   "execution_count": null,
   "metadata": {},
   "outputs": [],
   "source": []
  }
 ],
 "metadata": {
  "kernelspec": {
   "display_name": "Python AIML",
   "language": "python",
   "name": "aiml"
  },
  "language_info": {
   "codemirror_mode": {
    "name": "ipython",
    "version": 3
   },
   "file_extension": ".py",
   "mimetype": "text/x-python",
   "name": "python",
   "nbconvert_exporter": "python",
   "pygments_lexer": "ipython3",
   "version": "3.6.9"
  }
 },
 "nbformat": 4,
 "nbformat_minor": 2
}
